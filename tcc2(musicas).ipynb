{
 "cells": [
  {
   "cell_type": "code",
   "execution_count": 1,
   "id": "856b5ef5-6457-4823-9e7e-eec7523020ed",
   "metadata": {},
   "outputs": [
    {
     "name": "stdout",
     "output_type": "stream",
     "text": [
      "MUSICAS:\n",
      "\n",
      "0                                       Feel Good Inc.\n",
      "1                                      Rhinestone Eyes\n",
      "2        New Gold (feat. Tame Impala and Bootie Brown)\n",
      "3                                   On Melancholy Hill\n",
      "4                                       Clint Eastwood\n",
      "5                                                 DARE\n",
      "6    New Gold (feat. Tame Impala and Bootie Brown) ...\n",
      "7                   She's My Collar (feat. Kali Uchis)\n",
      "8                    Cracker Island (feat. Thundercat)\n",
      "9                                          Dirty Harry\n",
      "Name: Track, dtype: object\n",
      "ARTISTAS:\n",
      "\n",
      "0    Gorillaz\n",
      "1    Gorillaz\n",
      "2    Gorillaz\n",
      "3    Gorillaz\n",
      "4    Gorillaz\n",
      "5    Gorillaz\n",
      "6    Gorillaz\n",
      "7    Gorillaz\n",
      "8    Gorillaz\n",
      "9    Gorillaz\n",
      "Name: Artist, dtype: object\n",
      "ALBUNS:\n",
      "\n",
      "0                                           Demon Days\n",
      "1                                        Plastic Beach\n",
      "2        New Gold (feat. Tame Impala and Bootie Brown)\n",
      "3                                        Plastic Beach\n",
      "4                                             Gorillaz\n",
      "5                                           Demon Days\n",
      "6    New Gold (feat. Tame Impala and Bootie Brown) ...\n",
      "7                                      Humanz (Deluxe)\n",
      "8                    Cracker Island (feat. Thundercat)\n",
      "9                                           Demon Days\n",
      "Name: Album, dtype: object\n"
     ]
    }
   ],
   "source": [
    "import pandas as pd\n",
    "\n",
    "df = pd.read_csv(\"Spotify_Youtube.csv\")\n",
    "\n",
    "print ('MUSICAS:\\n')\n",
    "print(df['Track'].head(10)),\n",
    "print ('ARTISTAS:\\n')\n",
    "print(df['Artist'].head(10)),\n",
    "print ('ALBUNS:\\n')\n",
    "print(df['Album'].head(10))\n",
    "\n",
    "\n",
    "\n"
   ]
  },
  {
   "cell_type": "code",
   "execution_count": null,
   "id": "7382fbfc-e09f-45cc-baf3-63c579566c67",
   "metadata": {},
   "outputs": [],
   "source": []
  },
  {
   "cell_type": "code",
   "execution_count": null,
   "id": "8168cc48-469d-4ea1-8126-1cb1c5b39174",
   "metadata": {},
   "outputs": [],
   "source": []
  },
  {
   "cell_type": "code",
   "execution_count": null,
   "id": "676dac6a-5882-4452-8d42-270079c71f27",
   "metadata": {},
   "outputs": [],
   "source": []
  },
  {
   "cell_type": "code",
   "execution_count": null,
   "id": "d83a2667-4031-49b9-881c-3b645299fd16",
   "metadata": {},
   "outputs": [],
   "source": []
  },
  {
   "cell_type": "code",
   "execution_count": null,
   "id": "63f9fac3-7e96-42d1-bdca-f68da3259b50",
   "metadata": {},
   "outputs": [],
   "source": []
  }
 ],
 "metadata": {
  "kernelspec": {
   "display_name": "Python 3 (ipykernel)",
   "language": "python",
   "name": "python3"
  },
  "language_info": {
   "codemirror_mode": {
    "name": "ipython",
    "version": 3
   },
   "file_extension": ".py",
   "mimetype": "text/x-python",
   "name": "python",
   "nbconvert_exporter": "python",
   "pygments_lexer": "ipython3",
   "version": "3.12.5"
  }
 },
 "nbformat": 4,
 "nbformat_minor": 5
}
